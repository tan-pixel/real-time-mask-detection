{
 "cells": [
  {
   "cell_type": "code",
   "execution_count": 1,
   "id": "42c2e2e8-cfcf-4c61-bad5-dd6f982d284c",
   "metadata": {},
   "outputs": [],
   "source": [
    "import tensorflow as tf\n",
    "from tensorflow.keras.models import load_model \n",
    "import cv2\n",
    "import numpy as np\n",
    "from matplotlib import pyplot as plt"
   ]
  },
  {
   "cell_type": "code",
   "execution_count": 2,
   "id": "af9e786e-27fa-49f4-ae2f-d4c99ce90477",
   "metadata": {},
   "outputs": [],
   "source": [
    "MODEL_PATH = 'models/mask_detector.model'\n",
    "model = load_model(MODEL_PATH)"
   ]
  },
  {
   "cell_type": "code",
   "execution_count": 3,
   "id": "640d94f0-38a2-4888-a99a-c9c1f556c969",
   "metadata": {},
   "outputs": [],
   "source": [
    "face_model = cv2.CascadeClassifier('haarcascades/haarcascade_frontalface_default.xml')"
   ]
  },
  {
   "cell_type": "code",
   "execution_count": 4,
   "id": "3fc35f82-b923-4496-9e09-9ff0487e31c0",
   "metadata": {},
   "outputs": [],
   "source": [
    "img_height = 100\n",
    "img_width = 100"
   ]
  },
  {
   "cell_type": "code",
   "execution_count": 5,
   "id": "6ba76ac0-0fe5-45cd-81e8-d09aca1f4b80",
   "metadata": {},
   "outputs": [],
   "source": [
    "labels = {0: 'Mask', 1: 'No Mask'}"
   ]
  },
  {
   "cell_type": "code",
   "execution_count": null,
   "id": "24feeaa3-6b49-45f3-b988-cdd1291da7a3",
   "metadata": {},
   "outputs": [],
   "source": [
    "capture = cv2.VideoCapture(0)\n",
    "font = cv2.FONT_HERSHEY_COMPLEX\n",
    "while True:\n",
    "  flag, img = capture.read()\n",
    "  if flag:  \n",
    "      faces = face_model.detectMultiScale(img)\n",
    "      for x, y, w, h in faces:\n",
    "        cv2.rectangle(img, (x, y), (x+w, y+h), (0, 0, 255), 4)\n",
    "        face = img[y:y+h, x:x+w, :]\n",
    "        face = cv2.resize(face, (img_height, img_width))\n",
    "        face = np.array(face/255, dtype = np.float32)\n",
    "        face = np.reshape(face, (1, img_height, img_width, 3))\n",
    "        res = model.predict(face)\n",
    "        n = labels[np.argmax(res)]\n",
    "        cv2.putText(img, n, (x, y), font, 1, (0, 255, 0), 2)\n",
    "      cv2.imshow('result', img)\n",
    "      if cv2.waitKey(10) == 27:\n",
    "        break\n",
    "  else:\n",
    "    break\n",
    "\n",
    "capture.release()\n",
    "cv2.destroyAllWindows()"
   ]
  },
  {
   "cell_type": "code",
   "execution_count": 10,
   "id": "a68d3194-c0ca-404d-b9b6-9ff53b1d4d6d",
   "metadata": {},
   "outputs": [],
   "source": [
    "capture.release()\n",
    "cv2.destroyAllWindows()"
   ]
  },
  {
   "cell_type": "code",
   "execution_count": 33,
   "id": "ec171ee6-7e71-4d21-9eb2-71d063d91a1e",
   "metadata": {},
   "outputs": [
    {
     "data": {
      "text/plain": [
       "(224, 224, 3)"
      ]
     },
     "execution_count": 33,
     "metadata": {},
     "output_type": "execute_result"
    }
   ],
   "source": [
    "face.shape"
   ]
  },
  {
   "cell_type": "code",
   "execution_count": 13,
   "id": "28ac66c2-0c29-447c-b007-b6b81b537313",
   "metadata": {},
   "outputs": [
    {
     "data": {
      "text/plain": [
       "False"
      ]
     },
     "execution_count": 13,
     "metadata": {},
     "output_type": "execute_result"
    }
   ],
   "source": [
    "flag"
   ]
  },
  {
   "cell_type": "code",
   "execution_count": 4,
   "id": "fed9e59f-54f3-49a0-8b3c-b7d6345876ec",
   "metadata": {},
   "outputs": [],
   "source": [
    "cam = cv2.VideoCapture(0)\n",
    "\n",
    "while True:\n",
    "    check, frame = cam.read()\n",
    "\n",
    "    cv2.imshow('video', frame)\n",
    "\n",
    "    key = cv2.waitKey(1)\n",
    "    if key == 27:\n",
    "        break\n",
    "\n",
    "cam.release()\n",
    "cv2.destroyAllWindows()"
   ]
  },
  {
   "cell_type": "code",
   "execution_count": 22,
   "id": "fda7d3df-a0ee-4cee-aa3a-af07c3dc919d",
   "metadata": {},
   "outputs": [
    {
     "data": {
      "text/plain": [
       "NoneType"
      ]
     },
     "execution_count": 22,
     "metadata": {},
     "output_type": "execute_result"
    }
   ],
   "source": [
    "type(frame)"
   ]
  },
  {
   "cell_type": "code",
   "execution_count": null,
   "id": "e4e32b8b-670b-4a72-a5fc-d8184f021a8f",
   "metadata": {},
   "outputs": [],
   "source": []
  }
 ],
 "metadata": {
  "kernelspec": {
   "display_name": "Python 3 (ipykernel)",
   "language": "python",
   "name": "python3"
  },
  "language_info": {
   "codemirror_mode": {
    "name": "ipython",
    "version": 3
   },
   "file_extension": ".py",
   "mimetype": "text/x-python",
   "name": "python",
   "nbconvert_exporter": "python",
   "pygments_lexer": "ipython3",
   "version": "3.9.7"
  }
 },
 "nbformat": 4,
 "nbformat_minor": 5
}
